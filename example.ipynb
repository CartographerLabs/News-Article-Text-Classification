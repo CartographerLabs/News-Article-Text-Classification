{
 "cells": [
  {
   "cell_type": "code",
   "execution_count": 1,
   "metadata": {
    "pycharm": {
     "is_executing": false
    },
    "scrolled": true
   },
   "outputs": [],
   "source": [
    "import matplotlib.pyplot as plt\n",
    "import seaborn as sns"
   ]
  },
  {
   "cell_type": "code",
   "execution_count": 2,
   "metadata": {
    "pycharm": {
     "is_executing": false
    }
   },
   "outputs": [],
   "source": [
    "from news_classification.news_topic_text_classifier import news_topic_text_classifier\n",
    "\n",
    "my_predictor = news_topic_text_classifier()"
   ]
  },
  {
   "cell_type": "code",
   "execution_count": 3,
   "metadata": {
    "pycharm": {
     "is_executing": false
    }
   },
   "outputs": [
    {
     "name": "stdout",
     "text": [
      "{'entertainment_and_arts': 218, 'science_and_enviroment': 218, 'health': 218, 'technology': 218, 'sport': 218, 'food_and_drink': 218, 'business': 218, 'travel': 218, 'politics': 218}\n"
     ],
     "output_type": "stream"
    }
   ],
   "source": [
    "my_predictor.create_data_set()"
   ]
  },
  {
   "cell_type": "code",
   "execution_count": 4,
   "metadata": {
    "pycharm": {
     "is_executing": false
    }
   },
   "outputs": [],
   "source": [
    "my_predictor.re_train()"
   ]
  },
  {
   "cell_type": "code",
   "execution_count": 5,
   "metadata": {
    "pycharm": {
     "is_executing": false
    }
   },
   "outputs": [
    {
     "data": {
      "text/plain": "{'business',\n 'entertainment_and_arts',\n 'food_and_drink',\n 'health',\n 'politics',\n 'science_and_enviroment',\n 'sport',\n 'technology',\n 'travel'}"
     },
     "metadata": {},
     "output_type": "execute_result",
     "execution_count": 5
    }
   ],
   "source": [
    "my_predictor.get_all_categories()"
   ]
  },
  {
   "cell_type": "code",
   "execution_count": 6,
   "metadata": {
    "pycharm": {
     "is_executing": false
    },
    "scrolled": true
   },
   "outputs": [
    {
     "name": "stdout",
     "text": [
      "(1946, 18610)\n",
      "--------------------\n",
      "# 'business':\n",
      "  . Most correlated unigrams:\n",
      ". cent\n",
      ". investors\n",
      "  . Most correlated bigrams:\n",
      ". enter email\n",
      ". email address\n",
      "# 'entertainment_and_arts':\n",
      "  . Most correlated unigrams:\n",
      ". song\n",
      ". album\n",
      "  . Most correlated bigrams:\n",
      ". use data\n",
      ". verizon media\n",
      "# 'food_and_drink':\n",
      "  . Most correlated unigrams:\n",
      ". eat\n",
      ". recipe\n",
      "  . Most correlated bigrams:\n",
      ". use data\n",
      ". verizon media\n",
      "# 'health':\n",
      "  . Most correlated unigrams:\n",
      ". immune\n",
      ". patients\n",
      "  . Most correlated bigrams:\n",
      ". coronavirus patients\n",
      ". covid 19\n",
      "# 'politics':\n",
      "  . Most correlated unigrams:\n",
      ". biden\n",
      ". trump\n",
      "  . Most correlated bigrams:\n",
      ". 000 tests\n",
      ". cbn news\n",
      "# 'science_and_enviroment':\n",
      "  . Most correlated unigrams:\n",
      ". nasa\n",
      ". species\n",
      "  . Most correlated bigrams:\n",
      ". carbon dioxide\n",
      ". climate change\n",
      "# 'sport':\n",
      "  . Most correlated unigrams:\n",
      ". sport\n",
      ". players\n",
      "  . Most correlated bigrams:\n",
      ". manchester united\n",
      ". world cup\n",
      "# 'technology':\n",
      "  . Most correlated unigrams:\n",
      ". android\n",
      ". users\n",
      "  . Most correlated bigrams:\n",
      ". media companies\n",
      ". facial recognition\n",
      "# 'travel':\n",
      "  . Most correlated unigrams:\n",
      ". travel\n",
      ". holiday\n",
      "  . Most correlated bigrams:\n",
      ". national park\n",
      ". air travel\n"
     ],
     "output_type": "stream"
    }
   ],
   "source": [
    "fig = plt.figure(figsize=(8,6))\n",
    "my_predictor._data_frame.groupby('category').body.count().plot.bar(ylim=0)\n",
    "plt.show()"
   ]
  },
  {
   "cell_type": "code",
   "execution_count": 7,
   "metadata": {
    "pycharm": {
     "is_executing": false
    }
   },
   "outputs": [
    {
     "data": {
      "text/plain": "                 category                                               body  \\\n0              technology  our galaxies is surrounded by a halo that is m...   \n1              technology  contract workers for facebook in austin, texas...   \n2  science_and_enviroment  planet labs inc  an existing skysat pictured w...   \n3  science_and_enviroment  ben kothe / buzzfeed news  buzzfeed news has r...   \n4                business  sylwia chrostowska said lockdown had been a hu...   \n\n   category_id  \n0            0  \n1            0  \n2            1  \n3            1  \n4            2  ",
      "text/html": "<div>\n<style scoped>\n    .dataframe tbody tr th:only-of-type {\n        vertical-align: middle;\n    }\n\n    .dataframe tbody tr th {\n        vertical-align: top;\n    }\n\n    .dataframe thead th {\n        text-align: right;\n    }\n</style>\n<table border=\"1\" class=\"dataframe\">\n  <thead>\n    <tr style=\"text-align: right;\">\n      <th></th>\n      <th>category</th>\n      <th>body</th>\n      <th>category_id</th>\n    </tr>\n  </thead>\n  <tbody>\n    <tr>\n      <th>0</th>\n      <td>technology</td>\n      <td>our galaxies is surrounded by a halo that is m...</td>\n      <td>0</td>\n    </tr>\n    <tr>\n      <th>1</th>\n      <td>technology</td>\n      <td>contract workers for facebook in austin, texas...</td>\n      <td>0</td>\n    </tr>\n    <tr>\n      <th>2</th>\n      <td>science_and_enviroment</td>\n      <td>planet labs inc  an existing skysat pictured w...</td>\n      <td>1</td>\n    </tr>\n    <tr>\n      <th>3</th>\n      <td>science_and_enviroment</td>\n      <td>ben kothe / buzzfeed news  buzzfeed news has r...</td>\n      <td>1</td>\n    </tr>\n    <tr>\n      <th>4</th>\n      <td>business</td>\n      <td>sylwia chrostowska said lockdown had been a hu...</td>\n      <td>2</td>\n    </tr>\n  </tbody>\n</table>\n</div>"
     },
     "metadata": {},
     "output_type": "execute_result",
     "execution_count": 7
    }
   ],
   "source": [
    "my_predictor.print_model_feature_data()"
   ]
  },
  {
   "cell_type": "code",
   "execution_count": 8,
   "metadata": {
    "pycharm": {
     "is_executing": false,
     "name": "#%%\n"
    }
   },
   "outputs": [
    {
     "data": {
      "text/plain": "<Figure size 576x432 with 1 Axes>",
      "image/png": "[encoded data removed]"
     },
     "metadata": {
      "needs_background": "light"
     },
     "output_type": "display_data"
    }
   ],
   "source": [
    "from sklearn.metrics import confusion_matrix\n",
    "category_id_df = my_predictor._data_frame[['category', 'category_id']].drop_duplicates().sort_values('category_id')\n",
    "\n",
    "conf_mat = confusion_matrix(my_predictor._y_test, my_predictor._y_pred)\n",
    "fig, ax = plt.subplots(figsize=(10,10))\n",
    "sns.heatmap(conf_mat, annot=True, fmt='d',\n",
    "            xticklabels=category_id_df.category.values, yticklabels=category_id_df.category.values)\n",
    "plt.ylabel('Actual')\n",
    "plt.xlabel('Predicted')\n",
    "plt.show()"
   ]
  },
  {
   "cell_type": "code",
   "execution_count": 9,
   "metadata": {
    "pycharm": {
     "is_executing": false,
     "name": "#%%\n"
    }
   },
   "outputs": [
    {
     "data": {
      "text/plain": "'politics'"
     },
     "metadata": {},
     "output_type": "execute_result",
     "execution_count": 9
    }
   ],
   "source": [
    "print(my_predictor.get_category(\"When you’re watching your grocery budget, it’s handy to have a collection of great dinner recipes that cost $10 (or less) to make. It’s useful to know a few ways to make a meal from a few eggs and a can, how to turn an almost-empty peanut butter jar into sauce, and how to turn kale stems into a delicious dip instead of tossing them in the compost. But sometimes, no matter how great a recipe is, a meal just doesn’t feel complete without a side dish. After using Epi’s method for calculating recipe cost to price out a number of side dish recipes on this site, I learned that the most realistic way to keep side dishes affordable is to keep your ingredient list short. Depending on the season, your location, and other factors, your costs will vary. But luckily, a few ingredients are all you need to make a great side. Here are a few of our favorites around $5 dollars or less for four servings.\"))"
   ]
  },
  {
   "cell_type": "code",
   "execution_count": 10,
   "metadata": {
    "pycharm": {
     "is_executing": false,
     "name": "#%%\n"
    }
   },
   "outputs": [
    {
     "name": "stdout",
     "text": [
      "\n",
      "\n",
      "50.25611838360843% successfully predicted\n",
      "49.743881616391576% incorrectly predicted\n"
     ],
     "output_type": "stream"
    }
   ],
   "source": [
    "print(my_predictor.get_category(\"The World Health Organization declared COVID-19 a pandemic 100 days ago on March 11. In a little more than three months, the coronavirus has infected more than 8.6 million people, and the death toll surpassed 458,000. The coronavirus, which causes the respiratory illness known as COVID-19, spread to nearly every continent, as doctors and nurses treat hundreds of patients per shift. Government officials scrambled to not only support their constituents, but also to implement ways to stem the rapidly spreading virus. Parts of the world plunged into unprecedented lockdowns, shuttering businesses and keeping people physically distant from one another, leading to economic decline. In the last few weeks, some restrictions have been lifted in a bid to restore normalcy in a pandemic-ridden world. But in light of reopening efforts, experts are concerned that the world could once again face the dark reality it faced at the early beginnings of the pandemic. In a matter of 100 days, the coronavirus has devastated populations around the world, and there doesn't yet seem to be an end in sight as scientists rush to develop a vaccine.\"))"
   ]
  },
  {
   "cell_type": "code",
   "execution_count": 10,
   "metadata": {
    "pycharm": {
     "is_executing": false
    }
   },
   "outputs": [],
   "source": [
    "print(my_predictor.get_category('Layla Moran says Sir Keir Starmer should be worried if she becomes the next leader of the Liberal Democrats, telling Business Insider that she wants to push the party to the political left and be \"even more radical than Labour.\" Moran, the Member of Parliament for Oxford West and Abingdon, said she wanted to \"fundamentally change how people perceive\" the Liberal Democrats after the partys disappointing performance at the last general election. The party, which went into the December election fighting to stop Brexit, failed to capitalize on strong polling earlier in the year, ending up with one fewer seat in the House of Commons and then-leader Jo Swinson losing her seat. The Liberal Democrats will elect a new leader at the end of August, with Moran competing with acting leader Ed Davey and MP Wera Hobhouse to rebuild the party after it failed in its mission to keep Britain in the European Union. In an interview with Business Insider, Moran said she wanted to turn the Liberal Democrats into a \"progressive, radical\" force on the left of British politics, and put the legacy of the partys time in the Coalition government with David Camerons Conservatives fully behind it. \"I want to take the Lib Dems back to our radical roots. I want us to be seen as more radical than Labour,\" she said.'))"
   ]
  },
  {
   "cell_type": "code",
   "execution_count": 10,
   "metadata": {
    "pycharm": {
     "is_executing": false
    }
   },
   "outputs": [],
   "source": [
    "print(my_predictor.get_category('European planemaker Airbus SE said on Friday it is extending furlough programs for 5,300 of its employees in Spain and the United Kingdom in its latest effort to cope with the impact of the coronavirus outbreak. \"This will be effective from 20th May till 30th September and affects all Airbus Operations SL employees in Spain (with some exceptions), which means around 3,100 employees\", an Airbus spokesman told Reuters in an emailed statement \"Airbus Helicopters and Airbus DS employees in Spain are not impacted\", the spokesman said. In the United Kingdom, the period of furlough for about 2,200 Airbus workers will start on July 20 and end on Aug. 9, the statement said. \"In France, all employees of the commercial aircraft division are in some way affected\", the spokesman said. He added about 29,500 employees in France were working on average about 30% shorter weeks. Sources told Reuters in May that Europes largest aerospace group was exploring restructuring plans involving the possibility of \"deep\" job cuts as it braced for a prolonged coronavirus crisis after furloughing thousands of workers.'))"
   ]
  }
 ],
 "metadata": {
  "kernelspec": {
   "display_name": "Python 3",
   "language": "python",
   "name": "python3"
  },
  "language_info": {
   "codemirror_mode": {
    "name": "ipython",
    "version": 3
   },
   "file_extension": ".py",
   "mimetype": "text/x-python",
   "name": "python",
   "nbconvert_exporter": "python",
   "pygments_lexer": "ipython3",
   "version": "3.7.6"
  },
  "pycharm": {
   "stem_cell": {
    "cell_type": "raw",
    "source": [],
    "metadata": {
     "collapsed": false
    }
   }
  }
 },
 "nbformat": 4,
 "nbformat_minor": 1
}