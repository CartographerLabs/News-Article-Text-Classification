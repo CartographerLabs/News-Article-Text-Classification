{
 "cells": [
  {
   "cell_type": "code",
   "execution_count": 1,
   "metadata": {
    "pycharm": {
     "is_executing": true
    },
    "scrolled": true
   },
   "outputs": [],
   "source": [
    "import matplotlib.pyplot as plt\n",
    "\n",
    "from news_classification.news_topic_text_classifier import news_topic_text_classifier\n",
    "\n",
    "model = news_topic_text_classifier()"
   ]
  },
  {
   "cell_type": "code",
   "execution_count": 2,
   "metadata": {},
   "outputs": [],
   "source": [
    "#model.create_data_set()"
   ]
  },
  {
   "cell_type": "code",
   "execution_count": 3,
   "metadata": {},
   "outputs": [],
   "source": [
    "#model.re_train()"
   ]
  },
  {
   "cell_type": "code",
   "execution_count": 4,
   "metadata": {},
   "outputs": [
    {
     "data": {
      "text/plain": [
       "{'business',\n",
       " 'entertainment_and_arts',\n",
       " 'family_and_education',\n",
       " 'food_and_drink',\n",
       " 'health',\n",
       " 'politics',\n",
       " 'science_and_enviroment',\n",
       " 'sport',\n",
       " 'technology',\n",
       " 'travel'}"
      ]
     },
     "execution_count": 4,
     "metadata": {},
     "output_type": "execute_result"
    }
   ],
   "source": [
    "model.get_all_categories()"
   ]
  },
  {
   "cell_type": "code",
   "execution_count": 5,
   "metadata": {
    "scrolled": true
   },
   "outputs": [
    {
     "name": "stdout",
     "output_type": "stream",
     "text": [
      "(1676, 21316)\n",
      "--------------------\n",
      "# 'business':\n",
      "  . Most correlated unigrams:\n",
      ". shares\n",
      ". investors\n",
      "  . Most correlated bigrams:\n",
      ". bank england\n",
      ". email address\n",
      "# 'entertainment_and_arts':\n",
      "  . Most correlated unigrams:\n",
      ". album\n",
      ". artist\n",
      "  . Most correlated bigrams:\n",
      ". london rating\n",
      ". theatre london\n",
      "# 'family_and_education':\n",
      "  . Most correlated unigrams:\n",
      ". pupils\n",
      ". classrooms\n",
      "  . Most correlated bigrams:\n",
      ". sending children\n",
      ". children school\n",
      "# 'food_and_drink':\n",
      "  . Most correlated unigrams:\n",
      ". recipe\n",
      ". mcdonald\n",
      "  . Most correlated bigrams:\n",
      ". burger king\n",
      ". fast food\n",
      "# 'health':\n",
      "  . Most correlated unigrams:\n",
      ". hospital\n",
      ". patients\n",
      "  . Most correlated bigrams:\n",
      ". coronavirus patients\n",
      ". intensive care\n",
      "# 'politics':\n",
      "  . Most correlated unigrams:\n",
      ". cummings\n",
      ". mps\n",
      "  . Most correlated bigrams:\n",
      ". county durham\n",
      ". mr cummings\n",
      "# 'science_and_enviroment':\n",
      "  . Most correlated unigrams:\n",
      ". nasa\n",
      ". species\n",
      "  . Most correlated bigrams:\n",
      ". climate change\n",
      ". scroll video\n",
      "# 'sport':\n",
      "  . Most correlated unigrams:\n",
      ". league\n",
      ". football\n",
      "  . Most correlated bigrams:\n",
      ". source cnn\n",
      ". premier league\n",
      "# 'technology':\n",
      "  . Most correlated unigrams:\n",
      ". google\n",
      ". users\n",
      "  . Most correlated bigrams:\n",
      ". getty 25\n",
      ". created sketch\n",
      "# 'travel':\n",
      "  . Most correlated unigrams:\n",
      ". beach\n",
      ". hotel\n",
      "  . Most correlated bigrams:\n",
      ". national park\n",
      ". mailonline travel\n"
     ]
    }
   ],
   "source": [
    "model.print_model_feature_data()"
   ]
  },
  {
   "cell_type": "code",
   "execution_count": 22,
   "metadata": {},
   "outputs": [
    {
     "data": {
      "text/html": [
       "<div>\n",
       "<style scoped>\n",
       "    .dataframe tbody tr th:only-of-type {\n",
       "        vertical-align: middle;\n",
       "    }\n",
       "\n",
       "    .dataframe tbody tr th {\n",
       "        vertical-align: top;\n",
       "    }\n",
       "\n",
       "    .dataframe thead th {\n",
       "        text-align: right;\n",
       "    }\n",
       "</style>\n",
       "<table border=\"1\" class=\"dataframe\">\n",
       "  <thead>\n",
       "    <tr style=\"text-align: right;\">\n",
       "      <th></th>\n",
       "      <th>category</th>\n",
       "      <th>body</th>\n",
       "      <th>category_id</th>\n",
       "    </tr>\n",
       "  </thead>\n",
       "  <tbody>\n",
       "    <tr>\n",
       "      <th>0</th>\n",
       "      <td>business</td>\n",
       "      <td>easyjet and cruise firm carnival are to lose t...</td>\n",
       "      <td>0</td>\n",
       "    </tr>\n",
       "    <tr>\n",
       "      <th>1</th>\n",
       "      <td>business</td>\n",
       "      <td>british airways is in a bitter standoff with u...</td>\n",
       "      <td>0</td>\n",
       "    </tr>\n",
       "    <tr>\n",
       "      <th>2</th>\n",
       "      <td>business</td>\n",
       "      <td>us trade representative robert lighthizer  the...</td>\n",
       "      <td>0</td>\n",
       "    </tr>\n",
       "    <tr>\n",
       "      <th>3</th>\n",
       "      <td>business</td>\n",
       "      <td>google  adelie foods was hit by a drop in the ...</td>\n",
       "      <td>0</td>\n",
       "    </tr>\n",
       "    <tr>\n",
       "      <th>4</th>\n",
       "      <td>business</td>\n",
       "      <td>matthew horwood  some 300,000 more uk workers ...</td>\n",
       "      <td>0</td>\n",
       "    </tr>\n",
       "  </tbody>\n",
       "</table>\n",
       "</div>"
      ],
      "text/plain": [
       "   category                                               body  category_id\n",
       "0  business  easyjet and cruise firm carnival are to lose t...            0\n",
       "1  business  british airways is in a bitter standoff with u...            0\n",
       "2  business  us trade representative robert lighthizer  the...            0\n",
       "3  business  google  adelie foods was hit by a drop in the ...            0\n",
       "4  business  matthew horwood  some 300,000 more uk workers ...            0"
      ]
     },
     "execution_count": 22,
     "metadata": {},
     "output_type": "execute_result"
    }
   ],
   "source": [
    "model._data_frame.head()"
   ]
  },
  {
   "cell_type": "code",
   "execution_count": 23,
   "metadata": {
    "pycharm": {
     "name": "#%%\n"
    }
   },
   "outputs": [
    {
     "data": {
      "image/png": "[encoded data removed]",
      "text/plain": [
       "<Figure size 576x432 with 1 Axes>"
      ]
     },
     "metadata": {
      "needs_background": "light"
     },
     "output_type": "display_data"
    }
   ],
   "source": [
    "fig = plt.figure(figsize=(8,6))\n",
    "model._data_frame.groupby('category').body.count().plot.bar(ylim=0)\n",
    "plt.show()"
   ]
  },
  {
   "cell_type": "code",
   "execution_count": 24,
   "metadata": {
    "pycharm": {
     "name": "#%%\n"
    }
   },
   "outputs": [
    {
     "data": {
      "text/plain": [
       "'business'"
      ]
     },
     "execution_count": 24,
     "metadata": {},
     "output_type": "execute_result"
    }
   ],
   "source": [
    "model.get_category(\"buisness smells\")"
   ]
  },
  {
   "cell_type": "code",
   "execution_count": null,
   "metadata": {},
   "outputs": [],
   "source": []
  },
  {
   "cell_type": "code",
   "execution_count": null,
   "metadata": {},
   "outputs": [],
   "source": []
  },
  {
   "cell_type": "code",
   "execution_count": null,
   "metadata": {},
   "outputs": [],
   "source": []
  }
 ],
 "metadata": {
  "kernelspec": {
   "display_name": "Python 3",
   "language": "python",
   "name": "python3"
  },
  "language_info": {
   "codemirror_mode": {
    "name": "ipython",
    "version": 3
   },
   "file_extension": ".py",
   "mimetype": "text/x-python",
   "name": "python",
   "nbconvert_exporter": "python",
   "pygments_lexer": "ipython3",
   "version": "3.7.6"
  },
  "pycharm": {
   "stem_cell": {
    "cell_type": "raw",
    "source": [],
    "metadata": {
     "collapsed": false
    }
   }
  }
 },
 "nbformat": 4,
 "nbformat_minor": 1
}